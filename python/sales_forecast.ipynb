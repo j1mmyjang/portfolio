{
  "cells": [
    {
      "cell_type": "code",
      "execution_count": null,
      "metadata": {
        "id": "Y2R0eFxX3yx4"
      },
      "outputs": [],
      "source": [
        "import pandas as pd\n",
        "import matplotlib.pyplot as plt\n",
        "import seaborn as sns\n",
        "import numpy as np"
      ]
    },
    {
      "cell_type": "code",
      "execution_count": null,
      "metadata": {
        "id": "pkjXPSQt5JJm"
      },
      "outputs": [],
      "source": [
        "df = pd.read_csv('Sales_Transaction.csv')"
      ]
    },
    {
      "cell_type": "code",
      "execution_count": null,
      "metadata": {
        "id": "6eLAkz5d5QsO",
        "colab": {
          "base_uri": "https://localhost:8080/",
          "height": 206
        },
        "outputId": "4fd8365a-eb5f-4f85-f4a2-f9646fbeb75d"
      },
      "outputs": [
        {
          "output_type": "execute_result",
          "data": {
            "text/plain": [
              "  TransactionNo     Date ProductNo                          ProductName  \\\n",
              "0        581482  12/9/19     22485        Set Of 2 Wooden Market Crates   \n",
              "1        581475  12/9/19     22596  Christmas Star Wish List Chalkboard   \n",
              "2        581475  12/9/19     23235             Storage Tin Vintage Leaf   \n",
              "3        581475  12/9/19     23272    Tree T-Light Holder Willie Winkie   \n",
              "4        581475  12/9/19     23239    Set Of 4 Knick Knack Tins Poppies   \n",
              "\n",
              "   Price  Quantity  CustomerNo         Country  \n",
              "0  21.47      12.0     17490.0  United Kingdom  \n",
              "1  10.65      36.0     13069.0  United Kingdom  \n",
              "2  11.53      12.0     13069.0  United Kingdom  \n",
              "3  10.65      12.0     13069.0  United Kingdom  \n",
              "4  11.94       6.0     13069.0  United Kingdom  "
            ],
            "text/html": [
              "\n",
              "  <div id=\"df-ae3813ab-9cd4-456d-880c-e5e6070631ed\">\n",
              "    <div class=\"colab-df-container\">\n",
              "      <div>\n",
              "<style scoped>\n",
              "    .dataframe tbody tr th:only-of-type {\n",
              "        vertical-align: middle;\n",
              "    }\n",
              "\n",
              "    .dataframe tbody tr th {\n",
              "        vertical-align: top;\n",
              "    }\n",
              "\n",
              "    .dataframe thead th {\n",
              "        text-align: right;\n",
              "    }\n",
              "</style>\n",
              "<table border=\"1\" class=\"dataframe\">\n",
              "  <thead>\n",
              "    <tr style=\"text-align: right;\">\n",
              "      <th></th>\n",
              "      <th>TransactionNo</th>\n",
              "      <th>Date</th>\n",
              "      <th>ProductNo</th>\n",
              "      <th>ProductName</th>\n",
              "      <th>Price</th>\n",
              "      <th>Quantity</th>\n",
              "      <th>CustomerNo</th>\n",
              "      <th>Country</th>\n",
              "    </tr>\n",
              "  </thead>\n",
              "  <tbody>\n",
              "    <tr>\n",
              "      <th>0</th>\n",
              "      <td>581482</td>\n",
              "      <td>12/9/19</td>\n",
              "      <td>22485</td>\n",
              "      <td>Set Of 2 Wooden Market Crates</td>\n",
              "      <td>21.47</td>\n",
              "      <td>12.0</td>\n",
              "      <td>17490.0</td>\n",
              "      <td>United Kingdom</td>\n",
              "    </tr>\n",
              "    <tr>\n",
              "      <th>1</th>\n",
              "      <td>581475</td>\n",
              "      <td>12/9/19</td>\n",
              "      <td>22596</td>\n",
              "      <td>Christmas Star Wish List Chalkboard</td>\n",
              "      <td>10.65</td>\n",
              "      <td>36.0</td>\n",
              "      <td>13069.0</td>\n",
              "      <td>United Kingdom</td>\n",
              "    </tr>\n",
              "    <tr>\n",
              "      <th>2</th>\n",
              "      <td>581475</td>\n",
              "      <td>12/9/19</td>\n",
              "      <td>23235</td>\n",
              "      <td>Storage Tin Vintage Leaf</td>\n",
              "      <td>11.53</td>\n",
              "      <td>12.0</td>\n",
              "      <td>13069.0</td>\n",
              "      <td>United Kingdom</td>\n",
              "    </tr>\n",
              "    <tr>\n",
              "      <th>3</th>\n",
              "      <td>581475</td>\n",
              "      <td>12/9/19</td>\n",
              "      <td>23272</td>\n",
              "      <td>Tree T-Light Holder Willie Winkie</td>\n",
              "      <td>10.65</td>\n",
              "      <td>12.0</td>\n",
              "      <td>13069.0</td>\n",
              "      <td>United Kingdom</td>\n",
              "    </tr>\n",
              "    <tr>\n",
              "      <th>4</th>\n",
              "      <td>581475</td>\n",
              "      <td>12/9/19</td>\n",
              "      <td>23239</td>\n",
              "      <td>Set Of 4 Knick Knack Tins Poppies</td>\n",
              "      <td>11.94</td>\n",
              "      <td>6.0</td>\n",
              "      <td>13069.0</td>\n",
              "      <td>United Kingdom</td>\n",
              "    </tr>\n",
              "  </tbody>\n",
              "</table>\n",
              "</div>\n",
              "      <button class=\"colab-df-convert\" onclick=\"convertToInteractive('df-ae3813ab-9cd4-456d-880c-e5e6070631ed')\"\n",
              "              title=\"Convert this dataframe to an interactive table.\"\n",
              "              style=\"display:none;\">\n",
              "        \n",
              "  <svg xmlns=\"http://www.w3.org/2000/svg\" height=\"24px\"viewBox=\"0 0 24 24\"\n",
              "       width=\"24px\">\n",
              "    <path d=\"M0 0h24v24H0V0z\" fill=\"none\"/>\n",
              "    <path d=\"M18.56 5.44l.94 2.06.94-2.06 2.06-.94-2.06-.94-.94-2.06-.94 2.06-2.06.94zm-11 1L8.5 8.5l.94-2.06 2.06-.94-2.06-.94L8.5 2.5l-.94 2.06-2.06.94zm10 10l.94 2.06.94-2.06 2.06-.94-2.06-.94-.94-2.06-.94 2.06-2.06.94z\"/><path d=\"M17.41 7.96l-1.37-1.37c-.4-.4-.92-.59-1.43-.59-.52 0-1.04.2-1.43.59L10.3 9.45l-7.72 7.72c-.78.78-.78 2.05 0 2.83L4 21.41c.39.39.9.59 1.41.59.51 0 1.02-.2 1.41-.59l7.78-7.78 2.81-2.81c.8-.78.8-2.07 0-2.86zM5.41 20L4 18.59l7.72-7.72 1.47 1.35L5.41 20z\"/>\n",
              "  </svg>\n",
              "      </button>\n",
              "      \n",
              "  <style>\n",
              "    .colab-df-container {\n",
              "      display:flex;\n",
              "      flex-wrap:wrap;\n",
              "      gap: 12px;\n",
              "    }\n",
              "\n",
              "    .colab-df-convert {\n",
              "      background-color: #E8F0FE;\n",
              "      border: none;\n",
              "      border-radius: 50%;\n",
              "      cursor: pointer;\n",
              "      display: none;\n",
              "      fill: #1967D2;\n",
              "      height: 32px;\n",
              "      padding: 0 0 0 0;\n",
              "      width: 32px;\n",
              "    }\n",
              "\n",
              "    .colab-df-convert:hover {\n",
              "      background-color: #E2EBFA;\n",
              "      box-shadow: 0px 1px 2px rgba(60, 64, 67, 0.3), 0px 1px 3px 1px rgba(60, 64, 67, 0.15);\n",
              "      fill: #174EA6;\n",
              "    }\n",
              "\n",
              "    [theme=dark] .colab-df-convert {\n",
              "      background-color: #3B4455;\n",
              "      fill: #D2E3FC;\n",
              "    }\n",
              "\n",
              "    [theme=dark] .colab-df-convert:hover {\n",
              "      background-color: #434B5C;\n",
              "      box-shadow: 0px 1px 3px 1px rgba(0, 0, 0, 0.15);\n",
              "      filter: drop-shadow(0px 1px 2px rgba(0, 0, 0, 0.3));\n",
              "      fill: #FFFFFF;\n",
              "    }\n",
              "  </style>\n",
              "\n",
              "      <script>\n",
              "        const buttonEl =\n",
              "          document.querySelector('#df-ae3813ab-9cd4-456d-880c-e5e6070631ed button.colab-df-convert');\n",
              "        buttonEl.style.display =\n",
              "          google.colab.kernel.accessAllowed ? 'block' : 'none';\n",
              "\n",
              "        async function convertToInteractive(key) {\n",
              "          const element = document.querySelector('#df-ae3813ab-9cd4-456d-880c-e5e6070631ed');\n",
              "          const dataTable =\n",
              "            await google.colab.kernel.invokeFunction('convertToInteractive',\n",
              "                                                     [key], {});\n",
              "          if (!dataTable) return;\n",
              "\n",
              "          const docLinkHtml = 'Like what you see? Visit the ' +\n",
              "            '<a target=\"_blank\" href=https://colab.research.google.com/notebooks/data_table.ipynb>data table notebook</a>'\n",
              "            + ' to learn more about interactive tables.';\n",
              "          element.innerHTML = '';\n",
              "          dataTable['output_type'] = 'display_data';\n",
              "          await google.colab.output.renderOutput(dataTable, element);\n",
              "          const docLink = document.createElement('div');\n",
              "          docLink.innerHTML = docLinkHtml;\n",
              "          element.appendChild(docLink);\n",
              "        }\n",
              "      </script>\n",
              "    </div>\n",
              "  </div>\n",
              "  "
            ]
          },
          "metadata": {},
          "execution_count": 24
        }
      ],
      "source": [
        "df.head()"
      ]
    },
    {
      "cell_type": "code",
      "execution_count": null,
      "metadata": {
        "id": "3WhGQhZH5YCV"
      },
      "outputs": [],
      "source": [
        "primary_key = df[['TransactionNo']]"
      ]
    },
    {
      "cell_type": "code",
      "execution_count": null,
      "metadata": {
        "id": "XONctt3f5gBS",
        "colab": {
          "base_uri": "https://localhost:8080/",
          "height": 206
        },
        "outputId": "a49e322d-8a2b-4abf-f01e-24391f136b08"
      },
      "outputs": [
        {
          "output_type": "execute_result",
          "data": {
            "text/plain": [
              "  TransactionNo\n",
              "0        581482\n",
              "1        581475\n",
              "2        581475\n",
              "3        581475\n",
              "4        581475"
            ],
            "text/html": [
              "\n",
              "  <div id=\"df-df4e1402-704e-4392-85f7-9a572fd9980e\">\n",
              "    <div class=\"colab-df-container\">\n",
              "      <div>\n",
              "<style scoped>\n",
              "    .dataframe tbody tr th:only-of-type {\n",
              "        vertical-align: middle;\n",
              "    }\n",
              "\n",
              "    .dataframe tbody tr th {\n",
              "        vertical-align: top;\n",
              "    }\n",
              "\n",
              "    .dataframe thead th {\n",
              "        text-align: right;\n",
              "    }\n",
              "</style>\n",
              "<table border=\"1\" class=\"dataframe\">\n",
              "  <thead>\n",
              "    <tr style=\"text-align: right;\">\n",
              "      <th></th>\n",
              "      <th>TransactionNo</th>\n",
              "    </tr>\n",
              "  </thead>\n",
              "  <tbody>\n",
              "    <tr>\n",
              "      <th>0</th>\n",
              "      <td>581482</td>\n",
              "    </tr>\n",
              "    <tr>\n",
              "      <th>1</th>\n",
              "      <td>581475</td>\n",
              "    </tr>\n",
              "    <tr>\n",
              "      <th>2</th>\n",
              "      <td>581475</td>\n",
              "    </tr>\n",
              "    <tr>\n",
              "      <th>3</th>\n",
              "      <td>581475</td>\n",
              "    </tr>\n",
              "    <tr>\n",
              "      <th>4</th>\n",
              "      <td>581475</td>\n",
              "    </tr>\n",
              "  </tbody>\n",
              "</table>\n",
              "</div>\n",
              "      <button class=\"colab-df-convert\" onclick=\"convertToInteractive('df-df4e1402-704e-4392-85f7-9a572fd9980e')\"\n",
              "              title=\"Convert this dataframe to an interactive table.\"\n",
              "              style=\"display:none;\">\n",
              "        \n",
              "  <svg xmlns=\"http://www.w3.org/2000/svg\" height=\"24px\"viewBox=\"0 0 24 24\"\n",
              "       width=\"24px\">\n",
              "    <path d=\"M0 0h24v24H0V0z\" fill=\"none\"/>\n",
              "    <path d=\"M18.56 5.44l.94 2.06.94-2.06 2.06-.94-2.06-.94-.94-2.06-.94 2.06-2.06.94zm-11 1L8.5 8.5l.94-2.06 2.06-.94-2.06-.94L8.5 2.5l-.94 2.06-2.06.94zm10 10l.94 2.06.94-2.06 2.06-.94-2.06-.94-.94-2.06-.94 2.06-2.06.94z\"/><path d=\"M17.41 7.96l-1.37-1.37c-.4-.4-.92-.59-1.43-.59-.52 0-1.04.2-1.43.59L10.3 9.45l-7.72 7.72c-.78.78-.78 2.05 0 2.83L4 21.41c.39.39.9.59 1.41.59.51 0 1.02-.2 1.41-.59l7.78-7.78 2.81-2.81c.8-.78.8-2.07 0-2.86zM5.41 20L4 18.59l7.72-7.72 1.47 1.35L5.41 20z\"/>\n",
              "  </svg>\n",
              "      </button>\n",
              "      \n",
              "  <style>\n",
              "    .colab-df-container {\n",
              "      display:flex;\n",
              "      flex-wrap:wrap;\n",
              "      gap: 12px;\n",
              "    }\n",
              "\n",
              "    .colab-df-convert {\n",
              "      background-color: #E8F0FE;\n",
              "      border: none;\n",
              "      border-radius: 50%;\n",
              "      cursor: pointer;\n",
              "      display: none;\n",
              "      fill: #1967D2;\n",
              "      height: 32px;\n",
              "      padding: 0 0 0 0;\n",
              "      width: 32px;\n",
              "    }\n",
              "\n",
              "    .colab-df-convert:hover {\n",
              "      background-color: #E2EBFA;\n",
              "      box-shadow: 0px 1px 2px rgba(60, 64, 67, 0.3), 0px 1px 3px 1px rgba(60, 64, 67, 0.15);\n",
              "      fill: #174EA6;\n",
              "    }\n",
              "\n",
              "    [theme=dark] .colab-df-convert {\n",
              "      background-color: #3B4455;\n",
              "      fill: #D2E3FC;\n",
              "    }\n",
              "\n",
              "    [theme=dark] .colab-df-convert:hover {\n",
              "      background-color: #434B5C;\n",
              "      box-shadow: 0px 1px 3px 1px rgba(0, 0, 0, 0.15);\n",
              "      filter: drop-shadow(0px 1px 2px rgba(0, 0, 0, 0.3));\n",
              "      fill: #FFFFFF;\n",
              "    }\n",
              "  </style>\n",
              "\n",
              "      <script>\n",
              "        const buttonEl =\n",
              "          document.querySelector('#df-df4e1402-704e-4392-85f7-9a572fd9980e button.colab-df-convert');\n",
              "        buttonEl.style.display =\n",
              "          google.colab.kernel.accessAllowed ? 'block' : 'none';\n",
              "\n",
              "        async function convertToInteractive(key) {\n",
              "          const element = document.querySelector('#df-df4e1402-704e-4392-85f7-9a572fd9980e');\n",
              "          const dataTable =\n",
              "            await google.colab.kernel.invokeFunction('convertToInteractive',\n",
              "                                                     [key], {});\n",
              "          if (!dataTable) return;\n",
              "\n",
              "          const docLinkHtml = 'Like what you see? Visit the ' +\n",
              "            '<a target=\"_blank\" href=https://colab.research.google.com/notebooks/data_table.ipynb>data table notebook</a>'\n",
              "            + ' to learn more about interactive tables.';\n",
              "          element.innerHTML = '';\n",
              "          dataTable['output_type'] = 'display_data';\n",
              "          await google.colab.output.renderOutput(dataTable, element);\n",
              "          const docLink = document.createElement('div');\n",
              "          docLink.innerHTML = docLinkHtml;\n",
              "          element.appendChild(docLink);\n",
              "        }\n",
              "      </script>\n",
              "    </div>\n",
              "  </div>\n",
              "  "
            ]
          },
          "metadata": {},
          "execution_count": 26
        }
      ],
      "source": [
        "primary_key.head()"
      ]
    },
    {
      "cell_type": "markdown",
      "metadata": {
        "id": "1pstA41I5sbc"
      },
      "source": [
        "**Consider Quantity as the Target column. Identify the type of machine learning problem at hand.**\n",
        "\n",
        "Regression. The goal would be to predict quantity sold which is a continuous variable."
      ]
    },
    {
      "cell_type": "code",
      "execution_count": null,
      "metadata": {
        "id": "G1nr4Psa6H0q",
        "colab": {
          "base_uri": "https://localhost:8080/",
          "height": 411
        },
        "outputId": "e8d2c72b-53c8-4952-cf05-69bea9bad1f1"
      },
      "outputs": [
        {
          "output_type": "display_data",
          "data": {
            "text/plain": [
              "<Figure size 640x480 with 1 Axes>"
            ],
            "image/png": "[encoded data removed]"
          },
          "metadata": {}
        }
      ],
      "source": [
        "# Boxplot of Quantity\n",
        "sns.boxplot(y=df[\"Quantity\"])\n",
        "plt.show()"
      ]
    },
    {
      "cell_type": "code",
      "execution_count": null,
      "metadata": {
        "id": "SWGbtYJpF-nd",
        "colab": {
          "base_uri": "https://localhost:8080/"
        },
        "outputId": "f28a95ba-2a60-43ce-bdc4-9e1a23f447ef"
      },
      "outputs": [
        {
          "output_type": "execute_result",
          "data": {
            "text/plain": [
              "count    512616.000000\n",
              "mean         10.027128\n",
              "std         221.078782\n",
              "min      -80995.000000\n",
              "25%           1.000000\n",
              "50%           3.000000\n",
              "75%          10.000000\n",
              "max       80995.000000\n",
              "Name: Quantity, dtype: float64"
            ]
          },
          "metadata": {},
          "execution_count": 28
        }
      ],
      "source": [
        "df['Quantity'].describe()"
      ]
    },
    {
      "cell_type": "markdown",
      "metadata": {
        "id": "qZngZ1KfGMdY"
      },
      "source": [
        "**Comment on the distribution of the Target column. Will it affect your final goal of predicting the Target column adversely? Are there outliners for this column?**\n",
        "\n",
        "The distribution contains some outliers and will affect the predictions adversly."
      ]
    },
    {
      "cell_type": "code",
      "execution_count": null,
      "metadata": {
        "id": "Ht4kJBfpIC19",
        "colab": {
          "base_uri": "https://localhost:8080/",
          "height": 206
        },
        "outputId": "f7ab04b9-c5fc-4f09-f74a-56b460c247b4"
      },
      "outputs": [
        {
          "output_type": "execute_result",
          "data": {
            "text/plain": [
              "  TransactionNo       Date ProductNo                          ProductName  \\\n",
              "0        581482 2019-12-09     22485        Set Of 2 Wooden Market Crates   \n",
              "1        581475 2019-12-09     22596  Christmas Star Wish List Chalkboard   \n",
              "2        581475 2019-12-09     23235             Storage Tin Vintage Leaf   \n",
              "3        581475 2019-12-09     23272    Tree T-Light Holder Willie Winkie   \n",
              "4        581475 2019-12-09     23239    Set Of 4 Knick Knack Tins Poppies   \n",
              "\n",
              "   Price  Quantity  CustomerNo         Country  Day  Month  Year  \n",
              "0  21.47      12.0     17490.0  United Kingdom    9     12  2019  \n",
              "1  10.65      36.0     13069.0  United Kingdom    9     12  2019  \n",
              "2  11.53      12.0     13069.0  United Kingdom    9     12  2019  \n",
              "3  10.65      12.0     13069.0  United Kingdom    9     12  2019  \n",
              "4  11.94       6.0     13069.0  United Kingdom    9     12  2019  "
            ],
            "text/html": [
              "\n",
              "  <div id=\"df-cbfed2a9-e165-4593-b4dc-02ee2d8cebfe\">\n",
              "    <div class=\"colab-df-container\">\n",
              "      <div>\n",
              "<style scoped>\n",
              "    .dataframe tbody tr th:only-of-type {\n",
              "        vertical-align: middle;\n",
              "    }\n",
              "\n",
              "    .dataframe tbody tr th {\n",
              "        vertical-align: top;\n",
              "    }\n",
              "\n",
              "    .dataframe thead th {\n",
              "        text-align: right;\n",
              "    }\n",
              "</style>\n",
              "<table border=\"1\" class=\"dataframe\">\n",
              "  <thead>\n",
              "    <tr style=\"text-align: right;\">\n",
              "      <th></th>\n",
              "      <th>TransactionNo</th>\n",
              "      <th>Date</th>\n",
              "      <th>ProductNo</th>\n",
              "      <th>ProductName</th>\n",
              "      <th>Price</th>\n",
              "      <th>Quantity</th>\n",
              "      <th>CustomerNo</th>\n",
              "      <th>Country</th>\n",
              "      <th>Day</th>\n",
              "      <th>Month</th>\n",
              "      <th>Year</th>\n",
              "    </tr>\n",
              "  </thead>\n",
              "  <tbody>\n",
              "    <tr>\n",
              "      <th>0</th>\n",
              "      <td>581482</td>\n",
              "      <td>2019-12-09</td>\n",
              "      <td>22485</td>\n",
              "      <td>Set Of 2 Wooden Market Crates</td>\n",
              "      <td>21.47</td>\n",
              "      <td>12.0</td>\n",
              "      <td>17490.0</td>\n",
              "      <td>United Kingdom</td>\n",
              "      <td>9</td>\n",
              "      <td>12</td>\n",
              "      <td>2019</td>\n",
              "    </tr>\n",
              "    <tr>\n",
              "      <th>1</th>\n",
              "      <td>581475</td>\n",
              "      <td>2019-12-09</td>\n",
              "      <td>22596</td>\n",
              "      <td>Christmas Star Wish List Chalkboard</td>\n",
              "      <td>10.65</td>\n",
              "      <td>36.0</td>\n",
              "      <td>13069.0</td>\n",
              "      <td>United Kingdom</td>\n",
              "      <td>9</td>\n",
              "      <td>12</td>\n",
              "      <td>2019</td>\n",
              "    </tr>\n",
              "    <tr>\n",
              "      <th>2</th>\n",
              "      <td>581475</td>\n",
              "      <td>2019-12-09</td>\n",
              "      <td>23235</td>\n",
              "      <td>Storage Tin Vintage Leaf</td>\n",
              "      <td>11.53</td>\n",
              "      <td>12.0</td>\n",
              "      <td>13069.0</td>\n",
              "      <td>United Kingdom</td>\n",
              "      <td>9</td>\n",
              "      <td>12</td>\n",
              "      <td>2019</td>\n",
              "    </tr>\n",
              "    <tr>\n",
              "      <th>3</th>\n",
              "      <td>581475</td>\n",
              "      <td>2019-12-09</td>\n",
              "      <td>23272</td>\n",
              "      <td>Tree T-Light Holder Willie Winkie</td>\n",
              "      <td>10.65</td>\n",
              "      <td>12.0</td>\n",
              "      <td>13069.0</td>\n",
              "      <td>United Kingdom</td>\n",
              "      <td>9</td>\n",
              "      <td>12</td>\n",
              "      <td>2019</td>\n",
              "    </tr>\n",
              "    <tr>\n",
              "      <th>4</th>\n",
              "      <td>581475</td>\n",
              "      <td>2019-12-09</td>\n",
              "      <td>23239</td>\n",
              "      <td>Set Of 4 Knick Knack Tins Poppies</td>\n",
              "      <td>11.94</td>\n",
              "      <td>6.0</td>\n",
              "      <td>13069.0</td>\n",
              "      <td>United Kingdom</td>\n",
              "      <td>9</td>\n",
              "      <td>12</td>\n",
              "      <td>2019</td>\n",
              "    </tr>\n",
              "  </tbody>\n",
              "</table>\n",
              "</div>\n",
              "      <button class=\"colab-df-convert\" onclick=\"convertToInteractive('df-cbfed2a9-e165-4593-b4dc-02ee2d8cebfe')\"\n",
              "              title=\"Convert this dataframe to an interactive table.\"\n",
              "              style=\"display:none;\">\n",
              "        \n",
              "  <svg xmlns=\"http://www.w3.org/2000/svg\" height=\"24px\"viewBox=\"0 0 24 24\"\n",
              "       width=\"24px\">\n",
              "    <path d=\"M0 0h24v24H0V0z\" fill=\"none\"/>\n",
              "    <path d=\"M18.56 5.44l.94 2.06.94-2.06 2.06-.94-2.06-.94-.94-2.06-.94 2.06-2.06.94zm-11 1L8.5 8.5l.94-2.06 2.06-.94-2.06-.94L8.5 2.5l-.94 2.06-2.06.94zm10 10l.94 2.06.94-2.06 2.06-.94-2.06-.94-.94-2.06-.94 2.06-2.06.94z\"/><path d=\"M17.41 7.96l-1.37-1.37c-.4-.4-.92-.59-1.43-.59-.52 0-1.04.2-1.43.59L10.3 9.45l-7.72 7.72c-.78.78-.78 2.05 0 2.83L4 21.41c.39.39.9.59 1.41.59.51 0 1.02-.2 1.41-.59l7.78-7.78 2.81-2.81c.8-.78.8-2.07 0-2.86zM5.41 20L4 18.59l7.72-7.72 1.47 1.35L5.41 20z\"/>\n",
              "  </svg>\n",
              "      </button>\n",
              "      \n",
              "  <style>\n",
              "    .colab-df-container {\n",
              "      display:flex;\n",
              "      flex-wrap:wrap;\n",
              "      gap: 12px;\n",
              "    }\n",
              "\n",
              "    .colab-df-convert {\n",
              "      background-color: #E8F0FE;\n",
              "      border: none;\n",
              "      border-radius: 50%;\n",
              "      cursor: pointer;\n",
              "      display: none;\n",
              "      fill: #1967D2;\n",
              "      height: 32px;\n",
              "      padding: 0 0 0 0;\n",
              "      width: 32px;\n",
              "    }\n",
              "\n",
              "    .colab-df-convert:hover {\n",
              "      background-color: #E2EBFA;\n",
              "      box-shadow: 0px 1px 2px rgba(60, 64, 67, 0.3), 0px 1px 3px 1px rgba(60, 64, 67, 0.15);\n",
              "      fill: #174EA6;\n",
              "    }\n",
              "\n",
              "    [theme=dark] .colab-df-convert {\n",
              "      background-color: #3B4455;\n",
              "      fill: #D2E3FC;\n",
              "    }\n",
              "\n",
              "    [theme=dark] .colab-df-convert:hover {\n",
              "      background-color: #434B5C;\n",
              "      box-shadow: 0px 1px 3px 1px rgba(0, 0, 0, 0.15);\n",
              "      filter: drop-shadow(0px 1px 2px rgba(0, 0, 0, 0.3));\n",
              "      fill: #FFFFFF;\n",
              "    }\n",
              "  </style>\n",
              "\n",
              "      <script>\n",
              "        const buttonEl =\n",
              "          document.querySelector('#df-cbfed2a9-e165-4593-b4dc-02ee2d8cebfe button.colab-df-convert');\n",
              "        buttonEl.style.display =\n",
              "          google.colab.kernel.accessAllowed ? 'block' : 'none';\n",
              "\n",
              "        async function convertToInteractive(key) {\n",
              "          const element = document.querySelector('#df-cbfed2a9-e165-4593-b4dc-02ee2d8cebfe');\n",
              "          const dataTable =\n",
              "            await google.colab.kernel.invokeFunction('convertToInteractive',\n",
              "                                                     [key], {});\n",
              "          if (!dataTable) return;\n",
              "\n",
              "          const docLinkHtml = 'Like what you see? Visit the ' +\n",
              "            '<a target=\"_blank\" href=https://colab.research.google.com/notebooks/data_table.ipynb>data table notebook</a>'\n",
              "            + ' to learn more about interactive tables.';\n",
              "          element.innerHTML = '';\n",
              "          dataTable['output_type'] = 'display_data';\n",
              "          await google.colab.output.renderOutput(dataTable, element);\n",
              "          const docLink = document.createElement('div');\n",
              "          docLink.innerHTML = docLinkHtml;\n",
              "          element.appendChild(docLink);\n",
              "        }\n",
              "      </script>\n",
              "    </div>\n",
              "  </div>\n",
              "  "
            ]
          },
          "metadata": {},
          "execution_count": 29
        }
      ],
      "source": [
        "# Convert the 'Date' column to a pandas datetime format\n",
        "df['Date'] = pd.to_datetime(df['Date'])\n",
        "\n",
        "# Extract day, month, and year features from the 'Date' column\n",
        "df['Day'] = df['Date'].dt.day\n",
        "df['Month'] = df['Date'].dt.month\n",
        "df['Year'] = df['Date'].dt.year\n",
        "\n",
        "# Print the updated DataFrame\n",
        "df.head()"
      ]
    },
    {
      "cell_type": "code",
      "execution_count": null,
      "metadata": {
        "id": "trXCW8PkIg1o",
        "colab": {
          "base_uri": "https://localhost:8080/"
        },
        "outputId": "7376fe51-551a-4523-c944-a6ea82eaa30e"
      },
      "outputs": [
        {
          "output_type": "stream",
          "name": "stdout",
          "text": [
            "Correlation between 'Price' and 'Quantity':  -0.0069386309712646255\n"
          ]
        }
      ],
      "source": [
        "# Check the correlation between 'Price' and 'Quantity'\n",
        "correlation = df['Price'].corr(df['Quantity'])\n",
        "\n",
        "# Print the correlation coefficient\n",
        "print(\"Correlation between 'Price' and 'Quantity': \", correlation)"
      ]
    },
    {
      "cell_type": "code",
      "execution_count": null,
      "metadata": {
        "id": "sINiG5dsVn_y",
        "colab": {
          "base_uri": "https://localhost:8080/"
        },
        "outputId": "f80a22eb-e943-46dd-e3de-200c2989fd32"
      },
      "outputs": [
        {
          "output_type": "stream",
          "name": "stdout",
          "text": [
            "               Price  Quantity  CustomerNo       Day     Month      Year\n",
            "Price       1.000000 -0.006939   -0.003500 -0.001121 -0.108675 -0.039411\n",
            "Quantity   -0.006939  1.000000   -0.002143 -0.000639 -0.000798  0.001010\n",
            "CustomerNo -0.003500 -0.002143    1.000000 -0.001534  0.022084 -0.005558\n",
            "Day        -0.001121 -0.000639   -0.001534  1.000000 -0.058899 -0.014678\n",
            "Month      -0.108675 -0.000798    0.022084 -0.058899  1.000000 -0.259327\n",
            "Year       -0.039411  0.001010   -0.005558 -0.014678 -0.259327  1.000000\n"
          ]
        },
        {
          "output_type": "stream",
          "name": "stderr",
          "text": [
            "<ipython-input-31-ed094f514566>:1: FutureWarning: The default value of numeric_only in DataFrame.corr is deprecated. In a future version, it will default to False. Select only valid columns or specify the value of numeric_only to silence this warning.\n",
            "  corr_matrix = df.corr()\n"
          ]
        }
      ],
      "source": [
        "corr_matrix = df.corr()\n",
        "print(corr_matrix)"
      ]
    },
    {
      "cell_type": "markdown",
      "metadata": {
        "id": "-M3Ujm6YI0g-"
      },
      "source": [
        "**Comment on the correlation.**\n",
        "\n",
        "There is a weak negative correlation indicating that as the price of the product increases, the quantity sold tends to decrease."
      ]
    },
    {
      "cell_type": "code",
      "execution_count": null,
      "metadata": {
        "id": "wMeD6ZcFJISf",
        "colab": {
          "base_uri": "https://localhost:8080/",
          "height": 927
        },
        "outputId": "f85381e9-e76e-4afe-d89a-3620fac63ac7"
      },
      "outputs": [
        {
          "output_type": "display_data",
          "data": {
            "text/plain": [
              "<Figure size 640x480 with 1 Axes>"
            ],
            "image/png": "[encoded data removed]"
          },
          "metadata": {}
        },
        {
          "output_type": "display_data",
          "data": {
            "text/plain": [
              "<Figure size 640x480 with 1 Axes>"
            ],
            "image/png": "[encoded data removed]"
          },
          "metadata": {}
        }
      ],
      "source": [
        "# Generate histogram for 'Price'\n",
        "plt.hist(df['Price'], bins=50)\n",
        "plt.title('Price Histogram')\n",
        "plt.xlabel('Price')\n",
        "plt.ylabel('Frequency')\n",
        "plt.show()\n",
        "\n",
        "# Visualize the relationship between 'Price' and 'Quantity' using a scatter plot\n",
        "plt.scatter(df['Price'], df['Quantity'])\n",
        "plt.title('Price vs. Quantity Scatter Plot')\n",
        "plt.xlabel('Price')\n",
        "plt.ylabel('Quantity')\n",
        "plt.show()"
      ]
    },
    {
      "cell_type": "markdown",
      "metadata": {
        "id": "mQmCOib2JaXq"
      },
      "source": [
        "**Comment on the whether it seem Gaussian, or have severe skews and the presence of outliers on the variable, Price.**\n",
        "\n",
        "The histogram is skewed to the right and therefore not Gaussian. The scatter plot shows a weak negative correlation between 'Price' and 'Quantity'. However, there seem to be some outliers in the data."
      ]
    },
    {
      "cell_type": "code",
      "execution_count": null,
      "metadata": {
        "id": "3AUYCRoiKelh",
        "colab": {
          "base_uri": "https://localhost:8080/",
          "height": 1000
        },
        "outputId": "49f5a912-c687-4246-85ca-007fd737d512"
      },
      "outputs": [
        {
          "output_type": "stream",
          "name": "stderr",
          "text": [
            "/usr/local/lib/python3.10/dist-packages/pandas/core/arraylike.py:402: RuntimeWarning: invalid value encountered in log\n",
            "  result = getattr(ufunc, method)(*inputs, **kwargs)\n"
          ]
        },
        {
          "output_type": "display_data",
          "data": {
            "text/plain": [
              "<Figure size 640x480 with 1 Axes>"
            ],
            "image/png": "[encoded data removed]"
          },
          "metadata": {}
        },
        {
          "output_type": "display_data",
          "data": {
            "text/plain": [
              "<Figure size 640x480 with 1 Axes>"
            ],
            "image/png": "[encoded data removed]"
          },
          "metadata": {}
        },
        {
          "output_type": "display_data",
          "data": {
            "text/plain": [
              "<Figure size 640x480 with 1 Axes>"
            ],
            "image/png": "[encoded data removed]"
          },
          "metadata": {}
        }
      ],
      "source": [
        "# Apply log transformation to 'Price' and 'Quantity'\n",
        "df['Price_log'] = np.log(df['Price'])\n",
        "df['Quantity_log'] = np.log(df['Quantity'])\n",
        "\n",
        "# Generate histograms for transformed 'Price' and 'Quantity'\n",
        "plt.hist(df['Price_log'], bins=50)\n",
        "plt.title('Transformed Price Histogram')\n",
        "plt.xlabel('Log(Price)')\n",
        "plt.ylabel('Frequency')\n",
        "plt.show()\n",
        "\n",
        "plt.hist(df['Quantity_log'], bins=50)\n",
        "plt.title('Transformed Quantity Histogram')\n",
        "plt.xlabel('Log(Quantity)')\n",
        "plt.ylabel('Frequency')\n",
        "plt.show()\n",
        "\n",
        "# Visualize the relationship between transformed 'Price' and 'Quantity' using a scatter plot\n",
        "plt.scatter(df['Price_log'], df['Quantity_log'])\n",
        "plt.title('Transformed Price vs. Quantity Scatter Plot')\n",
        "plt.xlabel('Log(Price)')\n",
        "plt.ylabel('Log(Quantity)')\n",
        "plt.show()\n"
      ]
    },
    {
      "cell_type": "markdown",
      "metadata": {
        "id": "rfrCTy1QMhzo"
      },
      "source": [
        "**Comment on the presence of outliers on each variable**\n",
        "\n",
        "After applying a natural logarithm transformation, the data seems to have become more Gaussian."
      ]
    },
    {
      "cell_type": "code",
      "execution_count": null,
      "metadata": {
        "id": "AnS6OdUsMp7e",
        "colab": {
          "base_uri": "https://localhost:8080/"
        },
        "outputId": "8534b320-f951-4ec2-9384-286f0dafa102"
      },
      "outputs": [
        {
          "output_type": "stream",
          "name": "stdout",
          "text": [
            "United Kingdom          463218\n",
            "Germany                  10424\n",
            "France                   10119\n",
            "EIRE                      7881\n",
            "Spain                     2390\n",
            "Switzerland               2331\n",
            "Netherlands               2329\n",
            "Belgium                   1936\n",
            "Portugal                  1759\n",
            "Australia                 1682\n",
            "Austria                    887\n",
            "Norway                     791\n",
            "Iceland                    756\n",
            "Finland                    692\n",
            "Italy                      637\n",
            "Channel Islands            629\n",
            "Cyprus                     582\n",
            "Unspecified                447\n",
            "Sweden                     417\n",
            "Denmark                    397\n",
            "USA                        379\n",
            "Israel                     358\n",
            "Japan                      354\n",
            "Singapore                  215\n",
            "Poland                     174\n",
            "Hong Kong                  153\n",
            "Canada                     150\n",
            "Malta                      149\n",
            "United Arab Emirates        67\n",
            "Greece                      67\n",
            "European Community          58\n",
            "RSA                         57\n",
            "Lebanon                     45\n",
            "Brazil                      31\n",
            "Czech Republic              28\n",
            "Bahrain                     17\n",
            "Saudi Arabia                10\n",
            "Name: Country, dtype: int64\n"
          ]
        }
      ],
      "source": [
        "print(df['Country'].value_counts())"
      ]
    },
    {
      "cell_type": "code",
      "execution_count": null,
      "metadata": {
        "id": "JKTlDtBYNSMy",
        "colab": {
          "base_uri": "https://localhost:8080/"
        },
        "outputId": "c848c423-4b88-41c5-803d-f312370f5835"
      },
      "outputs": [
        {
          "output_type": "stream",
          "name": "stdout",
          "text": [
            "Cream Hanging Heart T-Light Holder    2253\n",
            "Regency Cakestand 3 Tier              2097\n",
            "Jumbo Bag Red Retrospot               2085\n",
            "Party Bunting                         1702\n",
            "Lunch Bag Red Retrospot               1584\n",
            "                                      ... \n",
            "Purple Anemone Artificial Flower         1\n",
            "Happy Birthday Card Teddy/Cake           1\n",
            "Pearl & Shell 42\"Neckl Ivory             1\n",
            "Green Pop Art Mao Cushion Cover          1\n",
            "Gold Cosmetic Bag Pink Star              1\n",
            "Name: ProductName, Length: 3726, dtype: int64\n"
          ]
        }
      ],
      "source": [
        "print(df['ProductName'].value_counts())"
      ]
    },
    {
      "cell_type": "markdown",
      "metadata": {
        "id": "Y_Rz0KGgN5pa"
      },
      "source": [
        "**Discuss whether each of them is ordinal or nominal.**\n",
        "\n",
        "Both Country and Product Name are nominal, meaning no specific order. However, there are some rare values in Product Name."
      ]
    },
    {
      "cell_type": "code",
      "execution_count": null,
      "metadata": {
        "id": "Mitlw_b0OSON"
      },
      "outputs": [],
      "source": [
        "# Count the number of characters in each product name\n",
        "df['Product_Name_Length'] = df['ProductName'].str.len()\n",
        "\n",
        "# Count the number of words in each product name\n",
        "df['Product_Name_Word_Count'] = df['ProductName'].str.split().str.len()"
      ]
    },
    {
      "cell_type": "code",
      "execution_count": null,
      "metadata": {
        "id": "3A62Ils5OnIS",
        "colab": {
          "base_uri": "https://localhost:8080/"
        },
        "outputId": "068e6b01-4572-482b-c13c-f7d2beecfd0c"
      },
      "outputs": [
        {
          "output_type": "stream",
          "name": "stdout",
          "text": [
            "TransactionNo                 0\n",
            "Date                          0\n",
            "ProductNo                     0\n",
            "ProductName                   1\n",
            "Price                         1\n",
            "Quantity                      1\n",
            "CustomerNo                   56\n",
            "Country                       1\n",
            "Day                           0\n",
            "Month                         0\n",
            "Year                          0\n",
            "Price_log                     1\n",
            "Quantity_log               8225\n",
            "Product_Name_Length           1\n",
            "Product_Name_Word_Count       1\n",
            "dtype: int64\n"
          ]
        }
      ],
      "source": [
        "print(df.isna().sum())"
      ]
    },
    {
      "cell_type": "code",
      "execution_count": null,
      "metadata": {
        "id": "lzCXpq_ASvet"
      },
      "outputs": [],
      "source": [
        "df = df.dropna()"
      ]
    },
    {
      "cell_type": "markdown",
      "metadata": {
        "id": "QczOZjUnP5nn"
      },
      "source": [
        "**State in your notebook how you dealt with the NaN values with a justification backing the approach taken to deal with NaNs**\n",
        "\n",
        "There were two columns with a lot of NaNs: Quanity_log and CustomerNo. The NaNs in both of these columns were dropped.\n",
        "\n",
        "The NaNs in Quantity_log is due to taking a log of a negative number. There were negative numbers in the Quantity column which do not make sense and could be an error since a customer cannot purchase a negative amount.\n",
        "\n",
        "The NaNs in CustomerNo were dropped because if we are not able to attribute a customer to a specific sale, the sale cannot be valid. It could be an error since there needs to be a customer for every sale."
      ]
    },
    {
      "cell_type": "code",
      "execution_count": null,
      "metadata": {
        "id": "L5Bn4FizW3aV",
        "colab": {
          "base_uri": "https://localhost:8080/"
        },
        "outputId": "e020e309-6b4e-41ee-e9f3-d71c8299871b"
      },
      "outputs": [
        {
          "output_type": "execute_result",
          "data": {
            "text/plain": [
              "TransactionNo                      object\n",
              "Date                       datetime64[ns]\n",
              "ProductNo                          object\n",
              "ProductName                        object\n",
              "Price                             float64\n",
              "Quantity                          float64\n",
              "CustomerNo                        float64\n",
              "Country                            object\n",
              "Day                                 int64\n",
              "Month                               int64\n",
              "Year                                int64\n",
              "Price_log                         float64\n",
              "Quantity_log                      float64\n",
              "Product_Name_Length               float64\n",
              "Product_Name_Word_Count           float64\n",
              "dtype: object"
            ]
          },
          "metadata": {},
          "execution_count": 39
        }
      ],
      "source": [
        "df.dtypes"
      ]
    },
    {
      "cell_type": "code",
      "execution_count": null,
      "metadata": {
        "id": "SnVXgbHaXnr_"
      },
      "outputs": [],
      "source": [
        "import re\n",
        "\n",
        "# Extract the numeric part of the ProductNo column and convert it to a numeric feature\n",
        "df['ProductNo'] = df['ProductNo'].apply(lambda x: re.findall('\\d+', str(x))[0]).astype('int64')"
      ]
    },
    {
      "cell_type": "code",
      "execution_count": null,
      "metadata": {
        "id": "UE7p8X62dK6A"
      },
      "outputs": [],
      "source": [
        "# Since country is a string it should be converted so it can be put into the model\n",
        "df = pd.get_dummies(df, columns=['Country'], prefix='Country')"
      ]
    },
    {
      "cell_type": "code",
      "execution_count": null,
      "metadata": {
        "id": "n7W1753FRpXd",
        "colab": {
          "base_uri": "https://localhost:8080/"
        },
        "outputId": "3efd932e-aae7-455a-f7f6-2fc70a277f50"
      },
      "outputs": [
        {
          "output_type": "stream",
          "name": "stdout",
          "text": [
            "Random Forest Regression RMSE: 113.28202486100959\n",
            "Gradient Boosting Regression RMSE: 23.1191811352791\n"
          ]
        }
      ],
      "source": [
        "from sklearn.model_selection import train_test_split\n",
        "from sklearn.ensemble import RandomForestRegressor, GradientBoostingRegressor\n",
        "from sklearn.metrics import mean_squared_error\n",
        "\n",
        "# Splitting the data into training and testing sets\n",
        "X = df.drop(['Quantity', 'Date', 'TransactionNo', 'ProductName'], axis=1)\n",
        "y = df['Quantity']\n",
        "X_train, X_test, y_train, y_test = train_test_split(X, y, test_size=0.2, random_state=42)\n",
        "\n",
        "# Running Random Forest Regression\n",
        "rf_reg = RandomForestRegressor(n_estimators=100, random_state=42)\n",
        "rf_reg.fit(X_train, y_train)\n",
        "y_pred_rf = rf_reg.predict(X_test)\n",
        "rmse_rf = np.sqrt(mean_squared_error(y_test, y_pred_rf))\n",
        "print('Random Forest Regression RMSE:', rmse_rf)\n",
        "\n",
        "# Running Gradient Boosting Regression\n",
        "gb_reg = GradientBoostingRegressor(n_estimators=100, random_state=42)\n",
        "gb_reg.fit(X_train, y_train)\n",
        "y_pred_gb = gb_reg.predict(X_test)\n",
        "rmse_gb = np.sqrt(mean_squared_error(y_test, y_pred_gb))\n",
        "print('Gradient Boosting Regression RMSE:', rmse_gb)"
      ]
    },
    {
      "cell_type": "markdown",
      "source": [
        "I tested a random forest and gradient boosting model since the relationship between the predictors and target variable is nonlinear and these models are better at catching more complex interactions between the predictors. This eliminates options such as a linear regression.\n",
        "\n",
        "The Gradient Boosting Regression performed the best with the lowest RMSE, meaning on average, the predicted quantity values are off by about ~23 units from the actual quantity values."
      ],
      "metadata": {
        "id": "FF1_e6Vox7sV"
      }
    },
    {
      "cell_type": "code",
      "execution_count": null,
      "metadata": {
        "id": "v_BowWzTe1qT"
      },
      "outputs": [],
      "source": [
        "from sklearn.model_selection import train_test_split, RandomizedSearchCV\n",
        "from sklearn.ensemble import RandomForestRegressor, GradientBoostingRegressor\n",
        "from sklearn.metrics import mean_squared_error\n",
        "\n",
        "gb_reg = GradientBoostingRegressor(random_state=42)\n",
        "gb_params = {'n_estimators': [50, 100, 150, 200],\n",
        "             'learning_rate': [0.001, 0.01, 0.1, 1],\n",
        "             'max_depth': [5, 10, 15, None],\n",
        "             'min_samples_split': [2, 5, 10],\n",
        "             'min_samples_leaf': [1, 2, 4]}\n",
        "gb_random = RandomizedSearchCV(estimator=gb_reg, param_distributions=gb_params, cv=5, n_iter=50, n_jobs=-1, random_state=42)\n",
        "gb_random.fit(X_train, y_train)\n",
        "print('Gradient Boosting Regression Best Parameters:', gb_random.best_params_)\n",
        "y_pred_gb = gb_random.predict(X_test)\n",
        "rmse_gb = np.sqrt(mean_squared_error(y_test, y_pred_gb))\n",
        "print('Gradient Boosting Regression RMSE:', rmse_gb)"
      ]
    }
  ],
  "metadata": {
    "colab": {
      "provenance": []
    },
    "kernelspec": {
      "display_name": "Python 3",
      "name": "python3"
    },
    "language_info": {
      "name": "python"
    }
  },
  "nbformat": 4,
  "nbformat_minor": 0
}